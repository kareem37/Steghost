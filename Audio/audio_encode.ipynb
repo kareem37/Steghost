{
 "cells": [
  {
   "cell_type": "code",
   "execution_count": 12,
   "id": "e1ef3e4e",
   "metadata": {},
   "outputs": [],
   "source": []
  },
  {
   "cell_type": "code",
   "execution_count": 15,
   "id": "f355b026",
   "metadata": {},
   "outputs": [
    {
     "name": "stdout",
     "output_type": "stream",
     "text": [
      "Usage: python encode.py <cover_audio_path> <bin_data_path> <stego_audio_wav_path> <stego_audio_mp3_path> <bits_per_sample>\n"
     ]
    },
    {
     "ename": "SystemExit",
     "evalue": "1",
     "output_type": "error",
     "traceback": [
      "An exception has occurred, use %tb to see the full traceback.\n",
      "\u001b[1;31mSystemExit\u001b[0m\u001b[1;31m:\u001b[0m 1\n"
     ]
    },
    {
     "name": "stderr",
     "output_type": "stream",
     "text": [
      "D:\\anaconda\\Lib\\site-packages\\IPython\\core\\interactiveshell.py:3561: UserWarning: To exit: use 'exit', 'quit', or Ctrl-D.\n",
      "  warn(\"To exit: use 'exit', 'quit', or Ctrl-D.\", stacklevel=1)\n"
     ]
    }
   ],
   "source": [
    "import sys\n",
    "from pydub import AudioSegment\n",
    "import wave\n",
    "import os\n",
    "\n",
    "def hide_data_in_audio(cover_audio_path, bin_data_path, stego_audio_wav_path, stego_audio_mp3_path, bits_per_sample=3):\n",
    "    # Load the cover audio and convert it to wav\n",
    "    audio = AudioSegment.from_wav(cover_audio_path)\n",
    "    temp_wav_path = \"temp.wav\"\n",
    "    audio.export(temp_wav_path, format=\"wav\")\n",
    "    audio_wave = wave.open(temp_wav_path, mode='rb')\n",
    "    \n",
    "    try:\n",
    "        with open(bin_data_path, \"rb\") as f:\n",
    "            data = f.read()\n",
    "        \n",
    "        # Convert data to a bit string\n",
    "        bits = ''.join([format(byte, '08b') for byte in data])\n",
    "        bits += '0000110000001100'  # Padding to indicate end of data with 16-bit marker\n",
    "\n",
    "        frame_bytes = bytearray(list(audio_wave.readframes(audio_wave.getnframes())))\n",
    "\n",
    "        # Ensure the frame bytes can hold the bit string\n",
    "        available_bits = len(frame_bytes) * bits_per_sample\n",
    "        if len(bits) > available_bits:\n",
    "            raise ValueError(\"Data is too large to hide in cover audio.\")\n",
    "\n",
    "        # Modify the least significant bits of each byte in the audio frame bytes\n",
    "        bit_index = 0\n",
    "        for i in range(len(frame_bytes)):\n",
    "            for j in range(bits_per_sample):\n",
    "                if bit_index < len(bits):\n",
    "                    frame_bytes[i] = (frame_bytes[i] & ~(1 << j)) | (int(bits[bit_index]) << j)\n",
    "                    bit_index += 1\n",
    "\n",
    "        modified_frames = bytes(frame_bytes)\n",
    "        with wave.open(stego_audio_wav_path, 'wb') as fd:\n",
    "            fd.setparams(audio_wave.getparams())\n",
    "            fd.writeframes(modified_frames)\n",
    "        \n",
    "        # Convert the stego wav file to mp3\n",
    "        stego_audio = AudioSegment.from_wav(stego_audio_wav_path)\n",
    "        stego_audio.export(stego_audio_mp3_path, format=\"mp3\")\n",
    "    finally:\n",
    "        audio_wave.close()\n",
    "        os.remove(temp_wav_path)\n",
    "\n",
    "if __name__ == \"__main__\":\n",
    "    if len(sys.argv) != 6:\n",
    "        print(\"Usage: python encode.py <cover_audio_path> <bin_data_path> <stego_audio_wav_path> <stego_audio_mp3_path> <bits_per_sample>\")\n",
    "        sys.exit(1)\n",
    "\n",
    "    cover_audio_path = sys.argv[1]\n",
    "    bin_data_path = sys.argv[2]\n",
    "    stego_audio_wav_path = sys.argv[3]\n",
    "    stego_audio_mp3_path = sys.argv[4]\n",
    "    bits_per_sample = int(sys.argv[5])\n",
    "\n",
    "    hide_data_in_audio(cover_audio_path, bin_data_path, stego_audio_wav_path, stego_audio_mp3_path, bits_per_sample)\n"
   ]
  },
  {
   "cell_type": "code",
   "execution_count": null,
   "id": "b0326f48",
   "metadata": {},
   "outputs": [],
   "source": []
  }
 ],
 "metadata": {
  "kernelspec": {
   "display_name": "Python 3 (ipykernel)",
   "language": "python",
   "name": "python3"
  },
  "language_info": {
   "codemirror_mode": {
    "name": "ipython",
    "version": 3
   },
   "file_extension": ".py",
   "mimetype": "text/x-python",
   "name": "python",
   "nbconvert_exporter": "python",
   "pygments_lexer": "ipython3",
   "version": "3.11.5"
  }
 },
 "nbformat": 4,
 "nbformat_minor": 5
}
