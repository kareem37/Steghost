{
 "cells": [
  {
   "cell_type": "code",
   "execution_count": 3,
   "id": "527ec11b",
   "metadata": {},
   "outputs": [
    {
     "name": "stdout",
     "output_type": "stream",
     "text": [
      "Encoding completed successfully.\n",
      "Encoding time: 0.2601773738861084 seconds\n"
     ]
    }
   ],
   "source": [
    "from PIL import Image\n",
    "import time\n",
    "import os\n",
    "\n",
    "def read_binary_file(file_path):\n",
    "    with open(file_path, 'rb') as file:\n",
    "        binary_data = file.read()\n",
    "    binary_string = ''.join(format(byte, '08b') for byte in binary_data)\n",
    "    return binary_string\n",
    "\n",
    "def encode_binary_image(cover_image_path, binary_message, output_image_path):\n",
    "    start_time = time.time()\n",
    "    img = Image.open(cover_image_path)\n",
    "    encoded = img.copy()\n",
    "    width, height = img.size\n",
    "    index = 0\n",
    "\n",
    "    # Encode the length of the binary message first (fixed 32 bits for simplicity)\n",
    "    message_length = len(binary_message)\n",
    "    length_binary = format(message_length, '032b')  # 32 bits for the length\n",
    "\n",
    "    # Full binary to encode includes length + actual message\n",
    "    full_binary = length_binary + binary_message\n",
    "\n",
    "    for y in range(height):\n",
    "        for x in range(width):\n",
    "            pixel = list(img.getpixel((x, y)))\n",
    "            for n in range(3):  # Each channel in the pixel\n",
    "                if index + 4 <= len(full_binary):  # Ensure there are at least 4 bits left to encode\n",
    "                    pixel[n] = (pixel[n] & 0xF0) | int(full_binary[index:index+4], 2)\n",
    "                    index += 4\n",
    "                if index >= len(full_binary):\n",
    "                    encoded.putpixel((x, y), tuple(pixel))\n",
    "                    encoded.save(output_image_path)\n",
    "                    end_time = time.time()\n",
    "                    encoding_time = end_time - start_time\n",
    "                    return \"Encoding completed successfully.\", encoding_time\n",
    "            encoded.putpixel((x, y), tuple(pixel))\n",
    "    encoded.save(output_image_path)\n",
    "    end_time = time.time()\n",
    "    encoding_time = end_time - start_time\n",
    "    return \"Encoding completed successfully.\", encoding_time\n",
    "\n",
    "if __name__ == \"__main__\":\n",
    "    cover_image_path = 'cover_image.jpg'\n",
    "    bin_file_path = 'example.bin'\n",
    "    output_image_path = 'encoded_image14.png'\n",
    "\n",
    "    binary_message = read_binary_file(bin_file_path)\n",
    "    result, encoding_time = encode_binary_image(cover_image_path, binary_message, output_image_path)\n",
    "    print(result)\n",
    "    print(\"Encoding time:\", encoding_time, \"seconds\")\n"
   ]
  },
  {
   "cell_type": "code",
   "execution_count": null,
   "id": "5e196117",
   "metadata": {},
   "outputs": [],
   "source": []
  }
 ],
 "metadata": {
  "kernelspec": {
   "display_name": "Python 3 (ipykernel)",
   "language": "python",
   "name": "python3"
  },
  "language_info": {
   "codemirror_mode": {
    "name": "ipython",
    "version": 3
   },
   "file_extension": ".py",
   "mimetype": "text/x-python",
   "name": "python",
   "nbconvert_exporter": "python",
   "pygments_lexer": "ipython3",
   "version": "3.11.5"
  }
 },
 "nbformat": 4,
 "nbformat_minor": 5
}
