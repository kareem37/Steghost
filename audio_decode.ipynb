{
 "cells": [
  {
   "cell_type": "code",
   "execution_count": null,
   "id": "3afdd533",
   "metadata": {},
   "outputs": [],
   "source": [
    "import sys\n",
    "import wave\n",
    "\n",
    "def extract_data_from_audio(stego_audio_path, output_bin_path, bits_per_sample=3):\n",
    "    audio_wave = wave.open(stego_audio_path, mode='rb')\n",
    "    \n",
    "    try:\n",
    "        frame_bytes = bytearray(list(audio_wave.readframes(audio_wave.getnframes())))\n",
    "        \n",
    "        # Extract the least significant bits\n",
    "        extracted_bits = []\n",
    "        for byte in frame_bytes:\n",
    "            for j in range(bits_per_sample):\n",
    "                extracted_bits.append(str((byte >> j) & 1))\n",
    "        \n",
    "        extracted_bits = ''.join(extracted_bits)\n",
    "\n",
    "        # Find the position of the end marker (0000110000001100)\n",
    "        end_index = extracted_bits.find('0000110000001100')\n",
    "        if end_index != -1:\n",
    "            extracted_bits = extracted_bits[:end_index]\n",
    "\n",
    "        # Convert the extracted bit string back to bytes\n",
    "        byte_array = bytearray()\n",
    "        for i in range(0, len(extracted_bits), 8):\n",
    "            byte = extracted_bits[i:i+8]\n",
    "            if len(byte) == 8:\n",
    "                byte_array.append(int(byte, 2))\n",
    "\n",
    "        with open(output_bin_path, \"wb\") as f:\n",
    "            f.write(byte_array)\n",
    "    finally:\n",
    "        audio_wave.close()\n",
    "\n",
    "if __name__ == \"__main__\":\n",
    "    if len(sys.argv) != 4:\n",
    "        print(\"Usage: python decode.py <stego_audio_path> <output_bin_path> <bits_per_sample>\")\n",
    "        sys.exit(1)\n",
    "\n",
    "    stego_audio_path = sys.argv[1]\n",
    "    output_bin_path = sys.argv[2]\n",
    "    bits_per_sample = int(sys.argv[3])\n",
    "\n",
    "    extract_data_from_audio(stego_audio_path, output_bin_path, bits_per_sample)\n"
   ]
  }
 ],
 "metadata": {
  "kernelspec": {
   "display_name": "Python 3 (ipykernel)",
   "language": "python",
   "name": "python3"
  },
  "language_info": {
   "codemirror_mode": {
    "name": "ipython",
    "version": 3
   },
   "file_extension": ".py",
   "mimetype": "text/x-python",
   "name": "python",
   "nbconvert_exporter": "python",
   "pygments_lexer": "ipython3",
   "version": "3.11.5"
  }
 },
 "nbformat": 4,
 "nbformat_minor": 5
}
