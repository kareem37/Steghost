{
 "cells": [
  {
   "cell_type": "code",
   "execution_count": 20,
   "id": "99b229fa",
   "metadata": {},
   "outputs": [
    {
     "name": "stdout",
     "output_type": "stream",
     "text": [
      "Decoded message: 0100100001100101011011000110110001101111001011000010000001110100011010000110100101110011001000000110100101110011001000000111001101101111011011010110010100100000011000100110100101101110011000010111001001111001001000000110010001100001011101000110000100100001\n",
      "Decoding time: 0.03890824317932129 seconds\n",
      "Length of output bin file: 256 bits\n",
      "The binary files are identical.\n"
     ]
    }
   ],
   "source": [
    "from PIL import Image\n",
    "import time\n",
    "import os\n",
    "\n",
    "def decode_binary_image(encoded_image_path, output_bin_path):\n",
    "    start_time = time.time()\n",
    "    img = Image.open(encoded_image_path)\n",
    "    binary_message = ''\n",
    "    width, height = img.size\n",
    "    bit_count = None\n",
    "    index = 0\n",
    "\n",
    "    for y in range(height):\n",
    "        for x in range(width):\n",
    "            pixel = img.getpixel((x, y))\n",
    "            for n in range(3):  # Each channel in the pixel\n",
    "                if index < 32:  # Read first 32 bits for length\n",
    "                    binary_message += format(pixel[n] & 0x0F, '04b')\n",
    "                    index += 4\n",
    "                    if index == 32:  # Once we have 32 bits, parse the length\n",
    "                        bit_count = int(binary_message, 2)\n",
    "                        binary_message = ''  # Reset to collect actual message bits\n",
    "                else:\n",
    "                    if len(binary_message) < bit_count:  # Collect only the specified number of bits\n",
    "                        binary_message += format(pixel[n] & 0x0F, '04b')\n",
    "                    if len(binary_message) == bit_count:  # Stop after reading bit_count bits\n",
    "                        end_time = time.time()\n",
    "                        decoding_time = end_time - start_time\n",
    "\n",
    "                        # Convert the binary string to bytes and write to the output file\n",
    "                        binary_data = int(binary_message, 2).to_bytes((bit_count + 7) // 8, byteorder='big')\n",
    "                        with open(output_bin_path, 'wb') as file:\n",
    "                            file.write(binary_data)\n",
    "\n",
    "                        # Get the length of the output bin file in bits\n",
    "                        file_size_bytes = os.path.getsize(output_bin_path)\n",
    "                        file_size_bits = file_size_bytes * 8\n",
    "\n",
    "                        return binary_message, decoding_time, file_size_bits\n",
    "\n",
    "\n",
    "\n",
    "if __name__ == \"__main__\":\n",
    "    encoded_image_path = 'encoded_image14.png'\n",
    "    output_bin_path = 'decoded_message14.bin'\n",
    "    input_bin_path = 'example.bin'\n",
    "\n",
    "    message, decoding_time, file_size_bits = decode_binary_image(encoded_image_path, output_bin_path)\n",
    "    \n",
    "    print(\"Decoding time:\", decoding_time, \"seconds\")\n",
    "    \n",
    "\n"
   ]
  },
  {
   "cell_type": "code",
   "execution_count": 22,
   "id": "b547da03",
   "metadata": {},
   "outputs": [
    {
     "name": "stdout",
     "output_type": "stream",
     "text": [
      "SNR: 79.29325449604727 dB\n",
      "Max Capacity: 12582912 bits\n",
      "Percentage Used: 0.00%\n",
      "Time Complexity: O(n)\n",
      "Memory Complexity: O(n)\n"
     ]
    }
   ],
   "source": [
    "from PIL import Image\n",
    "import numpy as np\n",
    "\n",
    "def calculate_snr(original_image_path, encoded_image_path):\n",
    "    original = np.array(Image.open(original_image_path), dtype=np.float32)\n",
    "    encoded = np.array(Image.open(encoded_image_path), dtype=np.float32)\n",
    "    mse = np.mean((original - encoded) ** 2)\n",
    "    if mse == 0:\n",
    "        return float('inf')\n",
    "    max_pixel = 255.0\n",
    "    snr = 10 * np.log10(max_pixel ** 2 / mse)\n",
    "    return snr\n",
    "\n",
    "def calculate_max_capacity(width, height):\n",
    "    return width * height * 3*4\n",
    "\n",
    "def calculate_percentage_used(bits_used, max_capacity):\n",
    "    return (bits_used / max_capacity) * 100\n",
    "\n",
    "# Load images and calculate SNR\n",
    "cover_image_path = 'cover_image.jpg'\n",
    "encoded_image_path = 'encoded_image14.png'\n",
    "\n",
    "snr = calculate_snr(cover_image_path, encoded_image_path)\n",
    "\n",
    "# Image dimensions\n",
    "img = Image.open(cover_image_path)\n",
    "width, height = img.size\n",
    "\n",
    "max_capacity = calculate_max_capacity(width, height)\n",
    "file_size_bytes = os.path.getsize('decoded_message14.bin')\n",
    "file_size_bits = file_size_bytes * 8\n",
    "percentage_used = calculate_percentage_used(file_size_bits, max_capacity)\n",
    "\n",
    "# Print results\n",
    "print(f\"SNR: {snr} dB\")\n",
    "print(f\"Max Capacity: {max_capacity} bits\")\n",
    "print(f\"Percentage Used: {percentage_used:.2f}%\")\n",
    "\n",
    "# Time complexity is O(n) for both encoding and decoding\n",
    "# Memory complexity is O(1) per pixel, O(n) overall due to storing the image in memory\n",
    "print(\"Time Complexity: O(n)\")\n",
    "print(\"Memory Complexity: O(n)\")\n"
   ]
  },
  {
   "cell_type": "code",
   "execution_count": 18,
   "id": "d72be2ce",
   "metadata": {},
   "outputs": [
    {
     "name": "stdout",
     "output_type": "stream",
     "text": [
      "The binary files are identical.\n"
     ]
    }
   ],
   "source": [
    "def compare_bin_files(file_path1, file_path2):\n",
    "    with open(file_path1, 'rb') as file1, open(file_path2, 'rb') as file2:\n",
    "        data1 = file1.read()\n",
    "        data2 = file2.read()\n",
    "        \n",
    "    if data1 == data2:\n",
    "        return True\n",
    "    else:\n",
    "        return False\n",
    "\n",
    "if __name__ == \"__main__\":\n",
    "    file1 = 'decoded_message212.bin'\n",
    "    file2 = 'example.bin'\n",
    "\n",
    "    comparison_result = compare_bin_files(file1, file2)\n",
    "    if comparison_result:\n",
    "        print(\"The binary files are identical.\")\n",
    "    else:\n",
    "        print(\"The binary files are different.\")\n"
   ]
  },
  {
   "cell_type": "code",
   "execution_count": null,
   "id": "602be362",
   "metadata": {},
   "outputs": [],
   "source": []
  }
 ],
 "metadata": {
  "kernelspec": {
   "display_name": "Python 3 (ipykernel)",
   "language": "python",
   "name": "python3"
  },
  "language_info": {
   "codemirror_mode": {
    "name": "ipython",
    "version": 3
   },
   "file_extension": ".py",
   "mimetype": "text/x-python",
   "name": "python",
   "nbconvert_exporter": "python",
   "pygments_lexer": "ipython3",
   "version": "3.11.5"
  }
 },
 "nbformat": 4,
 "nbformat_minor": 5
}
