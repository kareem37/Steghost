{
 "cells": [
  {
   "cell_type": "code",
   "execution_count": 16,
   "id": "e48f19ca",
   "metadata": {},
   "outputs": [
    {
     "name": "stdout",
     "output_type": "stream",
     "text": [
      "The code can correct up to 50 symbol errors.\n",
      "Decoding successful: True\n",
      "Decoded message matches original: True\n"
     ]
    }
   ],
   "source": [
    "from reedsolo import RSCodec\n",
    "import random\n",
    "import numpy as np\n",
    "\n",
    "# Function to read the .bin file\n",
    "def read_bin_file(file_path):\n",
    "    with open(file_path, 'rb') as file:\n",
    "        return file.read()\n",
    "\n",
    "# Function to write the .bin file\n",
    "def write_bin_file(file_path, data):\n",
    "    with open(file_path, 'wb') as file:\n",
    "        file.write(data)\n",
    "\n",
    "# Function to introduce errors in the encoded message\n",
    "def introduce_errors(encoded_message, num_errors):\n",
    "    corrupted_message = bytearray(encoded_message)\n",
    "    for _ in range(num_errors):\n",
    "        error_position = random.randint(0, len(corrupted_message) - 1)\n",
    "        corrupted_message[error_position] ^= 0xFF  # Invert bits to simulate error\n",
    "    return bytes(corrupted_message)\n",
    "\n",
    "# Simulate the original binary data\n",
    "original_bin_data = np.random.bytes(500)  # Simulate a 256-byte binary file\n",
    "bin_file_path = \"original_file.bin\"\n",
    "write_bin_file(bin_file_path, original_bin_data)\n",
    "\n",
    "# Read the binary message\n",
    "binary_message = read_bin_file(bin_file_path)\n",
    "\n",
    "# Define the number of parity bytes\n",
    "parity_bytes = 100\n",
    "\n",
    "# Calculate error correction capability\n",
    "error_correction_capability = parity_bytes//2 \n",
    "print(f\"The code can correct up to {error_correction_capability} symbol errors.\")\n",
    "\n",
    "# Create an RSCodec object\n",
    "rs = RSCodec(parity_bytes)\n",
    "\n",
    "# Encode the binary message\n",
    "encoded_message = rs.encode(binary_message)\n",
    "\n",
    "# Save the encoded message to a new .bin file\n",
    "encoded_file_path = \"encoded_file.bin\"\n",
    "write_bin_file(encoded_file_path, encoded_message)\n",
    "\n",
    "# Introduce errors (simulate data corruption)\n",
    "num_errors = error_correction_capability  # Correctable errors\n",
    "corrupted_message = introduce_errors(encoded_message, num_errors)\n",
    "\n",
    "# Save the corrupted message to a new .bin file (simulating extraction)\n",
    "corrupted_file_path = \"corrupted_file.bin\"\n",
    "write_bin_file(corrupted_file_path, corrupted_message)\n",
    "\n",
    "# Read the corrupted .bin file\n",
    "corrupted_message = read_bin_file(corrupted_file_path)\n",
    "\n",
    "# Decode the corrupted message\n",
    "try:\n",
    "    decoded_message = rs.decode(corrupted_message)[0]  # Take the first element if decode returns a tuple\n",
    "    decoded_file_path = \"decoded_file.bin\"\n",
    "    write_bin_file(decoded_file_path, decoded_message)\n",
    "    decoding_success = True\n",
    "except Exception as e:\n",
    "    decoding_success = False\n",
    "    decoded_message = None\n",
    "    error_message = str(e)\n",
    "\n",
    "# Check if the decoded message matches the original message\n",
    "print(\"Decoding successful:\", decoding_success)\n",
    "if decoding_success:\n",
    "    print(\"Decoded message matches original:\", decoded_message == binary_message)\n",
    "else:\n",
    "    print(\"Error during decoding:\", error_message)\n"
   ]
  },
  {
   "cell_type": "code",
   "execution_count": null,
   "id": "e05b28d9",
   "metadata": {},
   "outputs": [],
   "source": []
  }
 ],
 "metadata": {
  "kernelspec": {
   "display_name": "Python 3 (ipykernel)",
   "language": "python",
   "name": "python3"
  },
  "language_info": {
   "codemirror_mode": {
    "name": "ipython",
    "version": 3
   },
   "file_extension": ".py",
   "mimetype": "text/x-python",
   "name": "python",
   "nbconvert_exporter": "python",
   "pygments_lexer": "ipython3",
   "version": "3.11.5"
  }
 },
 "nbformat": 4,
 "nbformat_minor": 5
}
