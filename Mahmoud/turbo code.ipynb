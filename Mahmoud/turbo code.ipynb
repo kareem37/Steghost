{
 "cells": [
  {
   "cell_type": "code",
   "execution_count": 10,
   "id": "26dfa7f6",
   "metadata": {},
   "outputs": [
    {
     "name": "stderr",
     "output_type": "stream",
     "text": [
      "C:\\Users\\Hendy Group\\AppData\\Local\\Temp\\ipykernel_10256\\982987294.py:39: RuntimeWarning: invalid value encountered in divide\n",
      "  state_prob /= np.sum(state_prob, axis=0)  # Normalize\n"
     ]
    },
    {
     "name": "stdout",
     "output_type": "stream",
     "text": [
      "Decoding successful: False\n",
      "Decoded message does not match original.\n"
     ]
    }
   ],
   "source": [
    "import numpy as np\n",
    "\n",
    "def read_bin_file(file_path):\n",
    "    with open(file_path, 'rb') as f:\n",
    "        data = np.fromfile(f, dtype=np.uint8)\n",
    "    return data\n",
    "\n",
    "def write_bin_file(data, file_path):\n",
    "    with open(file_path, 'wb') as f:\n",
    "        data.tofile(f)\n",
    "\n",
    "class AdvancedRedundantEncoder:\n",
    "    def encode(self, data):\n",
    "        # Perform a higher repetition encoding for demonstration\n",
    "        return np.repeat(data, 5)\n",
    "\n",
    "class AdvancedRedundantDecoder:\n",
    "    def decode(self, encoded_data):\n",
    "        # Perform a more sophisticated majority vote decoding for demonstration\n",
    "        decoded_data = []\n",
    "        for i in range(0, len(encoded_data), 5):\n",
    "            decoded_data.append(np.round(np.mean(encoded_data[i:i+5])).astype(np.uint8))\n",
    "        return np.array(decoded_data, dtype=np.uint8)\n",
    "\n",
    "def introduce_errors(data, num_errors):\n",
    "    indices = np.random.choice(len(data), num_errors, replace=False)\n",
    "    data[indices] = 1 - data[indices]  # Flip the bits at the selected indices\n",
    "    return data\n",
    "\n",
    "def main(input_file_path, encoded_file_path, corrupted_file_path, decoded_file_path):\n",
    "    # Read input binary file\n",
    "    data = read_bin_file(input_file_path)\n",
    "\n",
    "    # Initialize encoder and decoder\n",
    "    encoder = AdvancedRedundantEncoder()\n",
    "    decoder = AdvancedRedundantDecoder()\n",
    "\n",
    "    # Encode the data\n",
    "    encoded_data = encoder.encode(data)\n",
    "    write_bin_file(encoded_data, encoded_file_path)\n",
    "\n",
    "    # Introduce errors in the encoded data\n",
    "    corrupted_data = introduce_errors(encoded_data.copy(), num_errors=100)\n",
    "    write_bin_file(corrupted_data, corrupted_file_path)\n",
    "\n",
    "    # Decode the corrupted data\n",
    "    decoded_data = decoder.decode(corrupted_data)\n",
    "    write_bin_file(decoded_data, decoded_file_path)\n",
    "\n",
    "    # Verify the correctness\n",
    "    original_data_trimmed = data[:len(decoded_data)]\n",
    "    if np.array_equal(original_data_trimmed, decoded_data):\n",
    "        print(\"Success: Decoded data matches the original data.\")\n",
    "    else:\n",
    "        print(\"Error: Decoded data does not match the original data.\")\n",
    "\n",
    "if __name__ == \"__main__\":\n",
    "    input_file_path = 'input.bin'\n",
    "    encoded_file_path = 'encoded.bin'\n",
    "    corrupted_file_path = 'corrupted.bin'\n",
    "    decoded_file_path = 'decoded.bin'\n",
    "    main(input_file_path, encoded_file_path, corrupted_file_path, decoded_file_path)\n"
   ]
  },
  {
   "cell_type": "code",
   "execution_count": null,
   "id": "0b9c0a38",
   "metadata": {},
   "outputs": [],
   "source": []
  }
 ],
 "metadata": {
  "kernelspec": {
   "display_name": "Python 3 (ipykernel)",
   "language": "python",
   "name": "python3"
  },
  "language_info": {
   "codemirror_mode": {
    "name": "ipython",
    "version": 3
   },
   "file_extension": ".py",
   "mimetype": "text/x-python",
   "name": "python",
   "nbconvert_exporter": "python",
   "pygments_lexer": "ipython3",
   "version": "3.11.5"
  }
 },
 "nbformat": 4,
 "nbformat_minor": 5
}
